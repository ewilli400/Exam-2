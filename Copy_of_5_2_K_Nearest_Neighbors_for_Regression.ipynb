{
  "nbformat": 4,
  "nbformat_minor": 0,
  "metadata": {
    "kernelspec": {
      "display_name": "Python 3",
      "language": "python",
      "name": "python3"
    },
    "language_info": {
      "codemirror_mode": {
        "name": "ipython",
        "version": 3
      },
      "file_extension": ".py",
      "mimetype": "text/x-python",
      "name": "python",
      "nbconvert_exporter": "python",
      "pygments_lexer": "ipython3",
      "version": "3.6.8"
    },
    "colab": {
      "name": "Copy of 5.2 K-Nearest Neighbors for Regression.ipynb",
      "provenance": [],
      "collapsed_sections": [],
      "include_colab_link": true
    }
  },
  "cells": [
    {
      "cell_type": "markdown",
      "metadata": {
        "id": "view-in-github",
        "colab_type": "text"
      },
      "source": [
        "<a href=\"https://colab.research.google.com/github/ewilli400/Exam-2/blob/main/Copy_of_5_2_K_Nearest_Neighbors_for_Regression.ipynb\" target=\"_parent\"><img src=\"https://colab.research.google.com/assets/colab-badge.svg\" alt=\"Open In Colab\"/></a>"
      ]
    },
    {
      "cell_type": "markdown",
      "metadata": {
        "id": "pdLP6qa3gdpn"
      },
      "source": [
        "# 5.2 K-Nearest Neighbors for Regression\n",
        "\n",
        "Linear regression is not the only machine learning model that Ashenfelter could have fit."
      ]
    },
    {
      "cell_type": "code",
      "metadata": {
        "id": "jwOMv33Jgdpp",
        "colab": {
          "base_uri": "https://localhost:8080/",
          "height": 235
        },
        "outputId": "dbaab6f3-c80e-4cfb-d5ec-7155726be44b"
      },
      "source": [
        "import pandas as pd\n",
        "import numpy as np\n",
        "\n",
        "data_dir = \"https://dlsun.github.io/pods/data/\"\n",
        "bordeaux_df = pd.read_csv(data_dir + \"bordeaux.csv\",\n",
        "                          index_col=\"year\")\n",
        "\n",
        "# Split the data into training and test sets.\n",
        "bordeaux_train = bordeaux_df.loc[:1980].copy()\n",
        "bordeaux_test = bordeaux_df.loc[1981:].copy()\n",
        "\n",
        "# Log transform the target.\n",
        "bordeaux_train[\"log(price)\"] = np.log(bordeaux_train[\"price\"])\n",
        "bordeaux_train.head()"
      ],
      "execution_count": 1,
      "outputs": [
        {
          "output_type": "execute_result",
          "data": {
            "text/html": [
              "<div>\n",
              "<style scoped>\n",
              "    .dataframe tbody tr th:only-of-type {\n",
              "        vertical-align: middle;\n",
              "    }\n",
              "\n",
              "    .dataframe tbody tr th {\n",
              "        vertical-align: top;\n",
              "    }\n",
              "\n",
              "    .dataframe thead th {\n",
              "        text-align: right;\n",
              "    }\n",
              "</style>\n",
              "<table border=\"1\" class=\"dataframe\">\n",
              "  <thead>\n",
              "    <tr style=\"text-align: right;\">\n",
              "      <th></th>\n",
              "      <th>price</th>\n",
              "      <th>summer</th>\n",
              "      <th>har</th>\n",
              "      <th>sep</th>\n",
              "      <th>win</th>\n",
              "      <th>age</th>\n",
              "      <th>log(price)</th>\n",
              "    </tr>\n",
              "    <tr>\n",
              "      <th>year</th>\n",
              "      <th></th>\n",
              "      <th></th>\n",
              "      <th></th>\n",
              "      <th></th>\n",
              "      <th></th>\n",
              "      <th></th>\n",
              "      <th></th>\n",
              "    </tr>\n",
              "  </thead>\n",
              "  <tbody>\n",
              "    <tr>\n",
              "      <th>1952</th>\n",
              "      <td>37.0</td>\n",
              "      <td>17.1</td>\n",
              "      <td>160</td>\n",
              "      <td>14.3</td>\n",
              "      <td>600</td>\n",
              "      <td>40</td>\n",
              "      <td>3.610918</td>\n",
              "    </tr>\n",
              "    <tr>\n",
              "      <th>1953</th>\n",
              "      <td>63.0</td>\n",
              "      <td>16.7</td>\n",
              "      <td>80</td>\n",
              "      <td>17.3</td>\n",
              "      <td>690</td>\n",
              "      <td>39</td>\n",
              "      <td>4.143135</td>\n",
              "    </tr>\n",
              "    <tr>\n",
              "      <th>1955</th>\n",
              "      <td>45.0</td>\n",
              "      <td>17.1</td>\n",
              "      <td>130</td>\n",
              "      <td>16.8</td>\n",
              "      <td>502</td>\n",
              "      <td>37</td>\n",
              "      <td>3.806662</td>\n",
              "    </tr>\n",
              "    <tr>\n",
              "      <th>1957</th>\n",
              "      <td>22.0</td>\n",
              "      <td>16.1</td>\n",
              "      <td>110</td>\n",
              "      <td>16.2</td>\n",
              "      <td>420</td>\n",
              "      <td>35</td>\n",
              "      <td>3.091042</td>\n",
              "    </tr>\n",
              "    <tr>\n",
              "      <th>1958</th>\n",
              "      <td>18.0</td>\n",
              "      <td>16.4</td>\n",
              "      <td>187</td>\n",
              "      <td>19.1</td>\n",
              "      <td>582</td>\n",
              "      <td>34</td>\n",
              "      <td>2.890372</td>\n",
              "    </tr>\n",
              "  </tbody>\n",
              "</table>\n",
              "</div>"
            ],
            "text/plain": [
              "      price  summer  har   sep  win  age  log(price)\n",
              "year                                                \n",
              "1952   37.0    17.1  160  14.3  600   40    3.610918\n",
              "1953   63.0    16.7   80  17.3  690   39    4.143135\n",
              "1955   45.0    17.1  130  16.8  502   37    3.806662\n",
              "1957   22.0    16.1  110  16.2  420   35    3.091042\n",
              "1958   18.0    16.4  187  19.1  582   34    2.890372"
            ]
          },
          "metadata": {
            "tags": []
          },
          "execution_count": 1
        }
      ]
    },
    {
      "cell_type": "markdown",
      "metadata": {
        "id": "obIRRRtTgdpu"
      },
      "source": [
        "Let's focus on just two features for now: winter rainfall (**win**) and average summer temperature (**summer**). Let's plot the training data, using a color gradient to represent the target (**log(price)**). Notice how we can customize the color gradient using the `cmap=` argument. A list of the available colormaps can be found [here](https://matplotlib.org/examples/color/colormaps_reference.html)."
      ]
    },
    {
      "cell_type": "code",
      "metadata": {
        "id": "2LpV-ttBgdpw",
        "colab": {
          "base_uri": "https://localhost:8080/",
          "height": 269
        },
        "outputId": "85aab393-419d-4f9c-800e-8d3d9d5636a2"
      },
      "source": [
        "import matplotlib.cm as cm\n",
        "\n",
        "bordeaux_train.plot.scatter(x=\"win\", y=\"summer\", c=\"log(price)\", \n",
        "                            cmap=cm.YlOrRd)"
      ],
      "execution_count": 2,
      "outputs": [
        {
          "output_type": "execute_result",
          "data": {
            "text/plain": [
              "<matplotlib.axes._subplots.AxesSubplot at 0x7f36175e9290>"
            ]
          },
          "metadata": {
            "tags": []
          },
          "execution_count": 2
        },
        {
          "output_type": "display_data",
          "data": {
            "image/png": "[encoded data removed]",
            "text/plain": [
              "<Figure size 432x288 with 2 Axes>"
            ]
          },
          "metadata": {
            "tags": [],
            "needs_background": "light"
          }
        }
      ]
    },
    {
      "cell_type": "markdown",
      "metadata": {
        "id": "Rr_2sHvrgdpz"
      },
      "source": [
        "Notice how wines that are close on this scatterplot are of similar quality. This insight is the basis of the $k$-nearest neighbors algorithm for predicting wine quality. Suppose that we want to predict the quality of the 1986 vintage, represented by a blue star in the plot below. \n",
        "\n",
        "![](https://github.com/dlsun/pods/blob/master/05-Regression-Models/regression_neighbors.png?raw=1)\n",
        "\n",
        "The $k=5$ points that are closest to this point in feature space are indicated by dotted lines. We can average the qualities of thse wines to obtain our prediction. All 5 of these points have a quality less than 3.0, so the 1986 vintage is also predicted to be of low quality.\n",
        "\n",
        "The $k$-nearest neighbors regression algorithm can be summarized as follows:\n",
        "\n",
        "1. Determine the $k$ closest points in the training data to the new point that you want to predict for, based on some distance metric on the features.\n",
        "2. The predicted label of the new point is the mean (or median) of the labels of the $k$ closest points.\n",
        "\n",
        "Let's implement this in code. First, we extract the training data and scale the features:"
      ]
    },
    {
      "cell_type": "code",
      "metadata": {
        "id": "1LMYQFf7gdp0"
      },
      "source": [
        "X_train = bordeaux_train[[\"win\", \"summer\"]]\n",
        "y_train = bordeaux_train[\"log(price)\"]\n",
        "\n",
        "# Standardize the features.\n",
        "X_train_mean = X_train.mean()\n",
        "X_train_sd = X_train.std()\n",
        "X_train_st = (X_train - X_train_mean) / X_train_sd"
      ],
      "execution_count": 3,
      "outputs": []
    },
    {
      "cell_type": "markdown",
      "metadata": {
        "id": "yp1jBJqNgdp4"
      },
      "source": [
        "Now, we get the features for the new observation (i.e., the 1986 vintage), standardizing it in the same way."
      ]
    },
    {
      "cell_type": "code",
      "metadata": {
        "id": "Kt0eaZ3Cgdp6",
        "colab": {
          "base_uri": "https://localhost:8080/"
        },
        "outputId": "db544fab-4bdf-4913-843d-58f90ca81795"
      },
      "source": [
        "x_new = bordeaux_test.loc[1986, [\"win\", \"summer\"]]\n",
        "\n",
        "x_new_st = (x_new - X_train_mean) / X_train_sd\n",
        "x_new_st"
      ],
      "execution_count": 4,
      "outputs": [
        {
          "output_type": "execute_result",
          "data": {
            "text/plain": [
              "win      -0.351900\n",
              "summer   -0.261262\n",
              "dtype: float64"
            ]
          },
          "metadata": {
            "tags": []
          },
          "execution_count": 4
        }
      ]
    },
    {
      "cell_type": "markdown",
      "metadata": {
        "id": "MRheuLl-gdp-"
      },
      "source": [
        "Now we calculate the (Euclidean) distances between the 1986 vintage and the vintages in the training data."
      ]
    },
    {
      "cell_type": "code",
      "metadata": {
        "id": "OJK7pzwmgdp_",
        "colab": {
          "base_uri": "https://localhost:8080/"
        },
        "outputId": "68af65ca-e0dd-44df-bb86-ca57768c12c5"
      },
      "source": [
        "dists = np.sqrt(((X_train_st - x_new_st) ** 2).sum(axis=1))\n",
        "dists"
      ],
      "execution_count": 5,
      "outputs": [
        {
          "output_type": "execute_result",
          "data": {
            "text/plain": [
              "year\n",
              "1952    1.259860\n",
              "1953    1.159726\n",
              "1955    1.314727\n",
              "1957    1.149883\n",
              "1958    0.212597\n",
              "1959    1.936933\n",
              "1960    1.557535\n",
              "1961    2.575503\n",
              "1962    1.038478\n",
              "1963    0.983970\n",
              "1964    1.976971\n",
              "1965    1.412851\n",
              "1966    2.007525\n",
              "1967    1.180230\n",
              "1968    0.395207\n",
              "1969    0.320488\n",
              "1970    0.765065\n",
              "1971    0.772366\n",
              "1972    2.004492\n",
              "1973    1.898753\n",
              "1974    0.085248\n",
              "1975    0.922736\n",
              "1976    2.288442\n",
              "1977    2.269387\n",
              "1978    1.729248\n",
              "1979    1.203287\n",
              "1980    0.474508\n",
              "dtype: float64"
            ]
          },
          "metadata": {
            "tags": []
          },
          "execution_count": 5
        }
      ]
    },
    {
      "cell_type": "markdown",
      "metadata": {
        "id": "AOn2bnnZgdqC"
      },
      "source": [
        "Now, we sort the distances. The first 5 of these are the nearest neighbors. To get the year of these nearest neighbors, we get the index."
      ]
    },
    {
      "cell_type": "code",
      "metadata": {
        "id": "FHCsio0NgdqE",
        "colab": {
          "base_uri": "https://localhost:8080/"
        },
        "outputId": "8ed04e3c-9224-4768-ab0e-121266e95a29"
      },
      "source": [
        "i_nearest = dists.sort_values().index[:5]\n",
        "i_nearest"
      ],
      "execution_count": 6,
      "outputs": [
        {
          "output_type": "execute_result",
          "data": {
            "text/plain": [
              "Int64Index([1974, 1958, 1969, 1968, 1980], dtype='int64', name='year')"
            ]
          },
          "metadata": {
            "tags": []
          },
          "execution_count": 6
        }
      ]
    },
    {
      "cell_type": "markdown",
      "metadata": {
        "id": "cvLMrn-hgdqG"
      },
      "source": [
        "We can look up these years in the training data."
      ]
    },
    {
      "cell_type": "code",
      "metadata": {
        "id": "x2GRYEEsgdqH",
        "colab": {
          "base_uri": "https://localhost:8080/",
          "height": 235
        },
        "outputId": "924c4785-f701-4ea3-8b3b-7cf38d6d46ca"
      },
      "source": [
        "bordeaux_train.loc[i_nearest]"
      ],
      "execution_count": 7,
      "outputs": [
        {
          "output_type": "execute_result",
          "data": {
            "text/html": [
              "<div>\n",
              "<style scoped>\n",
              "    .dataframe tbody tr th:only-of-type {\n",
              "        vertical-align: middle;\n",
              "    }\n",
              "\n",
              "    .dataframe tbody tr th {\n",
              "        vertical-align: top;\n",
              "    }\n",
              "\n",
              "    .dataframe thead th {\n",
              "        text-align: right;\n",
              "    }\n",
              "</style>\n",
              "<table border=\"1\" class=\"dataframe\">\n",
              "  <thead>\n",
              "    <tr style=\"text-align: right;\">\n",
              "      <th></th>\n",
              "      <th>price</th>\n",
              "      <th>summer</th>\n",
              "      <th>har</th>\n",
              "      <th>sep</th>\n",
              "      <th>win</th>\n",
              "      <th>age</th>\n",
              "      <th>log(price)</th>\n",
              "    </tr>\n",
              "    <tr>\n",
              "      <th>year</th>\n",
              "      <th></th>\n",
              "      <th></th>\n",
              "      <th></th>\n",
              "      <th></th>\n",
              "      <th></th>\n",
              "      <th></th>\n",
              "      <th></th>\n",
              "    </tr>\n",
              "  </thead>\n",
              "  <tbody>\n",
              "    <tr>\n",
              "      <th>1974</th>\n",
              "      <td>11.0</td>\n",
              "      <td>16.3</td>\n",
              "      <td>184</td>\n",
              "      <td>16.2</td>\n",
              "      <td>574</td>\n",
              "      <td>18</td>\n",
              "      <td>2.397895</td>\n",
              "    </tr>\n",
              "    <tr>\n",
              "      <th>1958</th>\n",
              "      <td>18.0</td>\n",
              "      <td>16.4</td>\n",
              "      <td>187</td>\n",
              "      <td>19.1</td>\n",
              "      <td>582</td>\n",
              "      <td>34</td>\n",
              "      <td>2.890372</td>\n",
              "    </tr>\n",
              "    <tr>\n",
              "      <th>1969</th>\n",
              "      <td>12.0</td>\n",
              "      <td>16.5</td>\n",
              "      <td>244</td>\n",
              "      <td>16.6</td>\n",
              "      <td>575</td>\n",
              "      <td>23</td>\n",
              "      <td>2.484907</td>\n",
              "    </tr>\n",
              "    <tr>\n",
              "      <th>1968</th>\n",
              "      <td>11.0</td>\n",
              "      <td>16.2</td>\n",
              "      <td>292</td>\n",
              "      <td>16.4</td>\n",
              "      <td>610</td>\n",
              "      <td>24</td>\n",
              "      <td>2.397895</td>\n",
              "    </tr>\n",
              "    <tr>\n",
              "      <th>1980</th>\n",
              "      <td>14.0</td>\n",
              "      <td>16.0</td>\n",
              "      <td>74</td>\n",
              "      <td>18.4</td>\n",
              "      <td>578</td>\n",
              "      <td>12</td>\n",
              "      <td>2.639057</td>\n",
              "    </tr>\n",
              "  </tbody>\n",
              "</table>\n",
              "</div>"
            ],
            "text/plain": [
              "      price  summer  har   sep  win  age  log(price)\n",
              "year                                                \n",
              "1974   11.0    16.3  184  16.2  574   18    2.397895\n",
              "1958   18.0    16.4  187  19.1  582   34    2.890372\n",
              "1969   12.0    16.5  244  16.6  575   23    2.484907\n",
              "1968   11.0    16.2  292  16.4  610   24    2.397895\n",
              "1980   14.0    16.0   74  18.4  578   12    2.639057"
            ]
          },
          "metadata": {
            "tags": []
          },
          "execution_count": 7
        }
      ]
    },
    {
      "cell_type": "markdown",
      "metadata": {
        "id": "xzpFu5_GgdqK"
      },
      "source": [
        "To make a prediction for the price of the 1986 vintage, we average the sale prices of these 5-nearest neighbors."
      ]
    },
    {
      "cell_type": "code",
      "metadata": {
        "id": "TfnayFCmgdqM",
        "colab": {
          "base_uri": "https://localhost:8080/"
        },
        "outputId": "fe0cc608-32e1-42b0-c522-f8d7c571770c"
      },
      "source": [
        "y_train.loc[i_nearest].mean()"
      ],
      "execution_count": 8,
      "outputs": [
        {
          "output_type": "execute_result",
          "data": {
            "text/plain": [
              "2.562025256579233"
            ]
          },
          "metadata": {
            "tags": []
          },
          "execution_count": 8
        }
      ]
    },
    {
      "cell_type": "markdown",
      "metadata": {
        "id": "e2dNakSEgdqP"
      },
      "source": [
        "So the model predicts that the quality of the 1986 is about 2.56, which is well below the average quality.\n",
        "\n",
        "Of course, the model above only had two features so it was easy to visualize the \"nearest neighbors\" on the scatterplot. The magic of $k$-nearest neighbors is that it still works when there are more features and the data is not possible to visualize."
      ]
    },
    {
      "cell_type": "markdown",
      "metadata": {
        "id": "pDVZHOz8gdqQ"
      },
      "source": [
        "## K-Nearest Neighbors in scikit-learn\n",
        "\n",
        "Now let's see how to implement $k$-nearest neighbors in scikit-learn. Recall from the previous lesson that all scikit-learn models follow the three-step pattern:\n",
        "\n",
        "1. Declare the model.\n",
        "2. Fit the model to training data.\n",
        "3. Use the model to predict on test data.\n",
        "\n",
        "To fit a $k$-nearest neighbors model instead of a linear regression model, we only need to modify the first step. Instead of declaring a model of type `LinearRegression`, we define a model of type `KNeighborsRegressor`, specifying the value of $k$ as one of the parameters. Because `KNeighborsRegressor` works with distances, it is a good idea to scale the features before passing the features into the model. (Refer back to Chapter 3 for a full explanation.)"
      ]
    },
    {
      "cell_type": "code",
      "metadata": {
        "id": "-Z8RozqFgdqQ",
        "colab": {
          "base_uri": "https://localhost:8080/"
        },
        "outputId": "d901731e-fd87-43a9-a908-607bf383d00b"
      },
      "source": [
        "from sklearn.preprocessing import StandardScaler\n",
        "from sklearn.neighbors import KNeighborsRegressor\n",
        "\n",
        "# Standardize the training and test data\n",
        "scaler = StandardScaler()\n",
        "X_train_st = scaler.fit_transform(X_train)\n",
        "X_new_st = scaler.transform(pd.DataFrame([x_new])) # needs to be a DataFrame\n",
        "y_train = bordeaux_train[\"log(price)\"]\n",
        "\n",
        "# Fit k-nearest neighbors\n",
        "model = KNeighborsRegressor(n_neighbors=5)\n",
        "model.fit(X=X_train_st, y=y_train)\n",
        "model.predict(X=X_new_st)"
      ],
      "execution_count": 9,
      "outputs": [
        {
          "output_type": "execute_result",
          "data": {
            "text/plain": [
              "array([2.56202526])"
            ]
          },
          "metadata": {
            "tags": []
          },
          "execution_count": 9
        }
      ]
    },
    {
      "cell_type": "markdown",
      "metadata": {
        "id": "otJtjyw1gdqT"
      },
      "source": [
        "This is the same predicted value that we got by implementing $k$-nearest neighbors manually."
      ]
    },
    {
      "cell_type": "markdown",
      "metadata": {
        "id": "VNrdiBTaggrM"
      },
      "source": [
        "In the code above, we had to be careful to standardize the training data and the test data in exactly the same way before fitting the $k$-nearest neighbors model. Most machine learning models have many more preprocessing steps. As the preprocessing gets more complex, it is easy to accidentally omit one of the preprocessing steps. For this reason, scikit-learn provides a _Pipeline_ object, which simply chains together a sequence of preprocessing and model building steps. If we call `Pipeline.fit()` or `Pipeline.predict()` on the data, all of the steps will be applied to the data in a consistent manner."
      ]
    },
    {
      "cell_type": "code",
      "metadata": {
        "id": "ZSFA_1MFggjH",
        "colab": {
          "base_uri": "https://localhost:8080/"
        },
        "outputId": "40ee2d30-a562-42c3-f8d6-a38fbd112185"
      },
      "source": [
        "from sklearn.pipeline import make_pipeline\n",
        "\n",
        "pipeline = make_pipeline(\n",
        "          StandardScaler(),\n",
        "          KNeighborsRegressor(n_neighbors=5)\n",
        ")\n",
        "\n",
        "pipeline.fit(X=X_train, y=y_train)\n",
        "pipeline.predict(X=pd.DataFrame([x_new]))"
      ],
      "execution_count": 10,
      "outputs": [
        {
          "output_type": "execute_result",
          "data": {
            "text/plain": [
              "array([2.56202526])"
            ]
          },
          "metadata": {
            "tags": []
          },
          "execution_count": 10
        }
      ]
    },
    {
      "cell_type": "markdown",
      "metadata": {
        "id": "aAUqRnbagdqU"
      },
      "source": [
        "## The K-Nearest Neighbors Regression Function\n",
        "\n",
        "A predictive model is simply a function $f$ that maps feature values ${\\bf x}$ to target values $y$. We can visualize $f$ when ${\\bf x}$ consists of just a single feature, such as **age**. In the previous lesson, we saw that $f$ is just a line when the model is linear regression. What does $f$ look like when the model is a $k$-nearest neighbors regressor?\n",
        "\n",
        "First, we extract the training data. There is no need to scale the features in this case because there is only one feature. (The point of scaling is to bring all of the variables to the same scale."
      ]
    },
    {
      "cell_type": "code",
      "metadata": {
        "id": "oLegUnjjgdqV"
      },
      "source": [
        "X_train = bordeaux_train[[\"age\"]]\n",
        "y_train = bordeaux_train[\"log(price)\"]"
      ],
      "execution_count": 11,
      "outputs": []
    },
    {
      "cell_type": "markdown",
      "metadata": {
        "id": "seSY9rIhgdqY"
      },
      "source": [
        "Now we fit the $k$-nearest neighbor model as before. We do not need to standardize the feature in this case because there is only one feature. Standardizing is only useful when there are multiple features that we want to bring to the same scale."
      ]
    },
    {
      "cell_type": "code",
      "metadata": {
        "id": "CA7yrXhKgdqZ",
        "colab": {
          "base_uri": "https://localhost:8080/"
        },
        "outputId": "83dc2d4b-277c-43a3-edb3-27f149bab128"
      },
      "source": [
        "# Fit k-nearest neighbors\n",
        "model = KNeighborsRegressor(n_neighbors=5)\n",
        "model.fit(X=X_train, y=y_train)"
      ],
      "execution_count": 12,
      "outputs": [
        {
          "output_type": "execute_result",
          "data": {
            "text/plain": [
              "KNeighborsRegressor(algorithm='auto', leaf_size=30, metric='minkowski',\n",
              "                    metric_params=None, n_jobs=None, n_neighbors=5, p=2,\n",
              "                    weights='uniform')"
            ]
          },
          "metadata": {
            "tags": []
          },
          "execution_count": 12
        }
      ]
    },
    {
      "cell_type": "markdown",
      "metadata": {
        "id": "Tt8S3Mvpgdqe"
      },
      "source": [
        "In order to graph $f$, we need to evaluate the predictive model at a grid of feature values. Since age ranges from 12 to 40 in the training data, we create a grid of ${\\bf x}$ values from 10 to 45, make predictions at these values, and plot these predictions as a curve."
      ]
    },
    {
      "cell_type": "code",
      "metadata": {
        "id": "odZD51z6gdqf",
        "colab": {
          "base_uri": "https://localhost:8080/",
          "height": 296
        },
        "outputId": "cca1514e-80a3-486d-a5a5-99b837bf05eb"
      },
      "source": [
        "# Define a grid of feature values.\n",
        "X_new = pd.DataFrame()\n",
        "X_new[\"age\"] = np.linspace(10, 45, num=200)\n",
        "\n",
        "# Make predictions at those feature values.\n",
        "y_new_ = pd.Series(\n",
        "    model.predict(X_new),\n",
        "    index=X_new[\"age\"]\n",
        ")\n",
        "\n",
        "# Plot the predictions.\n",
        "bordeaux_train.plot.scatter(x=\"age\", y=\"log(price)\")\n",
        "y_new_.plot.line()"
      ],
      "execution_count": 13,
      "outputs": [
        {
          "output_type": "execute_result",
          "data": {
            "text/plain": [
              "<matplotlib.axes._subplots.AxesSubplot at 0x7f3604c5a7d0>"
            ]
          },
          "metadata": {
            "tags": []
          },
          "execution_count": 13
        },
        {
          "output_type": "display_data",
          "data": {
            "image/png": "[encoded data removed]",
            "text/plain": [
              "<Figure size 432x288 with 1 Axes>"
            ]
          },
          "metadata": {
            "tags": [],
            "needs_background": "light"
          }
        }
      ]
    },
    {
      "cell_type": "markdown",
      "metadata": {
        "id": "hMkIpaWSgdqi"
      },
      "source": [
        "Unlike the linear regression model, the $k$-nearest neighbor model is piecewise constant. For example, wines more than 37 years old all have the same 5-nearest neighbors, so the prediction is constant in that range."
      ]
    },
    {
      "cell_type": "markdown",
      "metadata": {
        "id": "pY5hYuQQgdqj"
      },
      "source": [
        "# Exercises"
      ]
    },
    {
      "cell_type": "markdown",
      "metadata": {
        "id": "4Ac0WvSvgdqk"
      },
      "source": [
        "1\\. Plot the $k$-nearest neighbors regression function for predicting the quality of a wine from its age for $k=1, 5, 10, 20$. How does the regression function change as $k$ increases?"
      ]
    },
    {
      "cell_type": "code",
      "metadata": {
        "colab": {
          "base_uri": "https://localhost:8080/"
        },
        "id": "GNu-2x57TxKU",
        "outputId": "7aa398b2-09ae-4b9e-ca82-2977d25972ed"
      },
      "source": [
        "model1 = KNeighborsRegressor(n_neighbors=1)\n",
        "model1.fit(X=X_train, y=y_train)\n",
        "model5 = KNeighborsRegressor(n_neighbors=5)\n",
        "model5.fit(X=X_train, y=y_train)\n",
        "model10 = KNeighborsRegressor(n_neighbors=10)\n",
        "model10.fit(X=X_train, y=y_train)\n",
        "model20 = KNeighborsRegressor(n_neighbors=20)\n",
        "model20.fit(X=X_train, y=y_train)"
      ],
      "execution_count": 14,
      "outputs": [
        {
          "output_type": "execute_result",
          "data": {
            "text/plain": [
              "KNeighborsRegressor(algorithm='auto', leaf_size=30, metric='minkowski',\n",
              "                    metric_params=None, n_jobs=None, n_neighbors=20, p=2,\n",
              "                    weights='uniform')"
            ]
          },
          "metadata": {
            "tags": []
          },
          "execution_count": 14
        }
      ]
    },
    {
      "cell_type": "code",
      "metadata": {
        "colab": {
          "base_uri": "https://localhost:8080/",
          "height": 296
        },
        "id": "8IAOvFS3UCRL",
        "outputId": "7a2e112d-2120-4053-c70e-23f5943626fd"
      },
      "source": [
        "# Define a grid of feature values.\n",
        "X_new = pd.DataFrame()\n",
        "X_new[\"age\"] = np.linspace(10, 45, num=200)\n",
        "\n",
        "# Make predictions at those feature values.\n",
        "y_new_1 = pd.Series(\n",
        "    model1.predict(X_new),\n",
        "    index=X_new[\"age\"]\n",
        ")\n",
        "\n",
        "y_new_5 = pd.Series(\n",
        "    model5.predict(X_new),\n",
        "    index=X_new[\"age\"]\n",
        ")\n",
        "\n",
        "y_new_10 = pd.Series(\n",
        "    model10.predict(X_new),\n",
        "    index=X_new[\"age\"]\n",
        ")\n",
        "\n",
        "y_new_20 = pd.Series(\n",
        "    model20.predict(X_new),\n",
        "    index=X_new[\"age\"]\n",
        ")\n",
        "# Plot the predictions.\n",
        "bordeaux_train.plot.scatter(x=\"age\", y=\"log(price)\")\n",
        "y_new_1.plot.line()\n",
        "y_new_5.plot.line()\n",
        "y_new_10.plot.line()\n",
        "y_new_20.plot.line()"
      ],
      "execution_count": 15,
      "outputs": [
        {
          "output_type": "execute_result",
          "data": {
            "text/plain": [
              "<matplotlib.axes._subplots.AxesSubplot at 0x7f3604c5ab50>"
            ]
          },
          "metadata": {
            "tags": []
          },
          "execution_count": 15
        },
        {
          "output_type": "display_data",
          "data": {
            "image/png": "[encoded data removed]",
            "text/plain": [
              "<Figure size 432x288 with 1 Axes>"
            ]
          },
          "metadata": {
            "tags": [],
            "needs_background": "light"
          }
        }
      ]
    },
    {
      "cell_type": "markdown",
      "metadata": {
        "id": "gcEPyqmRVfP6"
      },
      "source": [
        "As K increases, the regression line gets flatter."
      ]
    },
    {
      "cell_type": "markdown",
      "metadata": {
        "id": "ZWTD3k7Ugdql"
      },
      "source": [
        "2\\. Using the Ames housing data set (http://dlsun.github.io/pods/data/AmesHousing.txt ), fit a $k$-nearest neighbors model that predicts the price of a home using square footage, number of bedrooms (**Bedroom AbvGr**), number of full bathrooms (**Full Bath**), and number of half bathrooms (**Half Bath**). Then, use your fitted model to predict the price of a home that is 1500 square feet, with 3 bedrooms, 2 full baths, and 1 half bath."
      ]
    },
    {
      "cell_type": "code",
      "metadata": {
        "id": "KRRoYRqWVtgd"
      },
      "source": [
        "df_ames = pd.read_csv(\"http://dlsun.github.io/pods/data/AmesHousing.txt\", delimiter=\"\\t\")"
      ],
      "execution_count": 16,
      "outputs": []
    },
    {
      "cell_type": "code",
      "metadata": {
        "colab": {
          "base_uri": "https://localhost:8080/"
        },
        "id": "6ztrqowiZcoc",
        "outputId": "5cbebb3e-693d-40ad-8582-84717af1d4b9"
      },
      "source": [
        "model = KNeighborsRegressor(n_neighbors=5)\n",
        "model.fit(\n",
        "    X=df_ames[[\"Gr Liv Area\", \"Bedroom AbvGr\", \"Full Bath\", \"Half Bath\"]],\n",
        "    y=df_ames[\"SalePrice\"]\n",
        ")\n",
        "model.predict(\n",
        "    X=df_ames[[\"Gr Liv Area\", \"Bedroom AbvGr\", \"Full Bath\", \"Half Bath\"]])"
      ],
      "execution_count": 17,
      "outputs": [
        {
          "output_type": "execute_result",
          "data": {
            "text/plain": [
              "array([177840., 112250., 145500., ..., 127500., 174680., 273280.])"
            ]
          },
          "metadata": {
            "tags": []
          },
          "execution_count": 17
        }
      ]
    },
    {
      "cell_type": "code",
      "metadata": {
        "colab": {
          "base_uri": "https://localhost:8080/"
        },
        "id": "qw7s0LoOZ__j",
        "outputId": "52c43c50-3050-4ede-ba47-d8efea4efe54"
      },
      "source": [
        "model.predict(\n",
        "    X = [[1500, 3, 2, 1]]\n",
        ")"
      ],
      "execution_count": 18,
      "outputs": [
        {
          "output_type": "execute_result",
          "data": {
            "text/plain": [
              "array([188079.8])"
            ]
          },
          "metadata": {
            "tags": []
          },
          "execution_count": 18
        }
      ]
    },
    {
      "cell_type": "markdown",
      "metadata": {
        "id": "_BnFEzeuac9r"
      },
      "source": [
        "A home that is 1500 square feet with 3 beds, 2 full baths, and 1 half bath is around $188,000."
      ]
    },
    {
      "cell_type": "markdown",
      "metadata": {
        "id": "ezyjjnFAgdql"
      },
      "source": [
        "3\\. You would like to predict how much a male diner will tip on a bill of \\\\$40.00 on a Sunday. Build a $k$-nearest neighbors model to answer this question, using the tips data (http://dlsun.github.io/pods/data/tips.csv ) as your training data."
      ]
    },
    {
      "cell_type": "code",
      "metadata": {
        "id": "sK-c_kUOawVk"
      },
      "source": [
        "df_tips = pd.read_csv(\"http://dlsun.github.io/pods/data/tips.csv\")"
      ],
      "execution_count": 19,
      "outputs": []
    },
    {
      "cell_type": "code",
      "metadata": {
        "id": "WM-s-uEsa1PH"
      },
      "source": [
        "df_tips[\"day_num\"] = df_tips[\"day\"].map({\n",
        "    \"Sun\": 1,\n",
        "    \"Mon\": 2,\n",
        "    \"Tues\": 3,\n",
        "    \"Wed\": 4,\n",
        "    \"Thur\": 5,\n",
        "    \"Fri\": 6,\n",
        "    \"Sat\": 7\n",
        "})"
      ],
      "execution_count": 20,
      "outputs": []
    },
    {
      "cell_type": "code",
      "metadata": {
        "id": "x9LRvRija3az"
      },
      "source": [
        "df_tips[\"sex_num\"] = df_tips[\"sex\"].map({\n",
        "    \"Male\": 1,\n",
        "    \"Female\": 2\n",
        "})"
      ],
      "execution_count": 21,
      "outputs": []
    },
    {
      "cell_type": "code",
      "metadata": {
        "colab": {
          "base_uri": "https://localhost:8080/"
        },
        "id": "gnT1KJLpa69X",
        "outputId": "abbe42e6-b0e6-4647-f409-bd4c428f7636"
      },
      "source": [
        "model = KNeighborsRegressor(n_neighbors=5)\n",
        "model.fit(\n",
        "    X=df_tips[[\"total_bill\", \"day_num\", \"sex_num\"]],\n",
        "    y=df_tips[\"tip\"]\n",
        ")"
      ],
      "execution_count": 22,
      "outputs": [
        {
          "output_type": "execute_result",
          "data": {
            "text/plain": [
              "KNeighborsRegressor(algorithm='auto', leaf_size=30, metric='minkowski',\n",
              "                    metric_params=None, n_jobs=None, n_neighbors=5, p=2,\n",
              "                    weights='uniform')"
            ]
          },
          "metadata": {
            "tags": []
          },
          "execution_count": 22
        }
      ]
    },
    {
      "cell_type": "code",
      "metadata": {
        "colab": {
          "base_uri": "https://localhost:8080/"
        },
        "id": "h0c1NVnxa_N9",
        "outputId": "5c311da6-e7f3-49a4-b00d-7397fe4f8542"
      },
      "source": [
        "model.predict(X=[[40, 1, 1]])"
      ],
      "execution_count": 23,
      "outputs": [
        {
          "output_type": "execute_result",
          "data": {
            "text/plain": [
              "array([4.346])"
            ]
          },
          "metadata": {
            "tags": []
          },
          "execution_count": 23
        }
      ]
    },
    {
      "cell_type": "markdown",
      "metadata": {
        "id": "3dCEKrhabJZY"
      },
      "source": [
        "A male eating a 40 dollar dinner on a Sunday would tip $4.35."
      ]
    }
  ]
}